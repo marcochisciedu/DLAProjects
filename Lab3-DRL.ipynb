{
 "cells": [
  {
   "cell_type": "markdown",
   "id": "f6ae2782-57ea-48f0-b948-b412d0076ffc",
   "metadata": {
    "id": "f6ae2782-57ea-48f0-b948-b412d0076ffc"
   },
   "source": [
    "# Deep Reinforcement Learning Laboratory\n",
    "\n",
    "This laboratory is focused on getting more advanced versions of Deep Reinforcement Learning algorithms up and running. Deep Reinforcement Learning is **hard**, and getting agents to stably train can be frustrating and requires quite a bit of subtlety in analysis of intermediate results. We will start by implementing `REINFORCE` on the [Cartpole environment](https://gymnasium.farama.org/environments/classic_control/cart_pole/)."
   ]
  },
  {
   "cell_type": "markdown",
   "id": "uldpcHx0OHyx",
   "metadata": {
    "id": "uldpcHx0OHyx"
   },
   "source": [
    "## Imports and weights and biases login"
   ]
  },
  {
   "cell_type": "code",
   "execution_count": 1,
   "id": "9689f766-b099-4948-a1b2-37e92975178f",
   "metadata": {
    "id": "9689f766-b099-4948-a1b2-37e92975178f"
   },
   "outputs": [
    {
     "name": "stdout",
     "output_type": "stream",
     "text": [
      "\n",
      "\u001b[1m[\u001b[0m\u001b[34;49mnotice\u001b[0m\u001b[1;39;49m]\u001b[0m\u001b[39;49m A new release of pip is available: \u001b[0m\u001b[31;49m24.1\u001b[0m\u001b[39;49m -> \u001b[0m\u001b[32;49m24.1.1\u001b[0m\n",
      "\u001b[1m[\u001b[0m\u001b[34;49mnotice\u001b[0m\u001b[1;39;49m]\u001b[0m\u001b[39;49m To update, run: \u001b[0m\u001b[32;49mpip install --upgrade pip\u001b[0m\n"
     ]
    }
   ],
   "source": [
    "# Using weights and biases\n",
    "!pip install wandb -qU"
   ]
  },
  {
   "cell_type": "code",
   "execution_count": 2,
   "id": "241e9bdc-7aa9-4a12-a57f-088fdc87eab6",
   "metadata": {
    "id": "241e9bdc-7aa9-4a12-a57f-088fdc87eab6"
   },
   "outputs": [],
   "source": [
    "# Standard imports.\n",
    "import numpy as np\n",
    "import matplotlib.pyplot as plt\n",
    "import gymnasium\n",
    "import torch\n",
    "import torch.nn as nn\n",
    "import torch.nn.functional as F\n",
    "import wandb\n",
    "import os\n",
    "\n",
    "# Plus one non standard one -- we need this to sample from policies.\n",
    "from torch.distributions import Categorical"
   ]
  },
  {
   "cell_type": "code",
   "execution_count": 3,
   "id": "e806e9d4-bb04-40ed-9cd4-f016823b100c",
   "metadata": {
    "id": "e806e9d4-bb04-40ed-9cd4-f016823b100c",
    "outputId": "753a212b-355e-4133-f7e1-53e9b5895040"
   },
   "outputs": [
    {
     "name": "stderr",
     "output_type": "stream",
     "text": [
      "Failed to detect the name of this notebook, you can set it manually with the WANDB_NOTEBOOK_NAME environment variable to enable code saving.\n",
      "\u001b[34m\u001b[1mwandb\u001b[0m: Currently logged in as: \u001b[33mmarco-chisci\u001b[0m (\u001b[33mmarcouni\u001b[0m). Use \u001b[1m`wandb login --relogin`\u001b[0m to force relogin\n"
     ]
    },
    {
     "data": {
      "text/plain": [
       "True"
      ]
     },
     "execution_count": 3,
     "metadata": {},
     "output_type": "execute_result"
    }
   ],
   "source": [
    "# Login to weights and biases account\n",
    "wandb.login()"
   ]
  },
  {
   "cell_type": "markdown",
   "id": "3fadaf0c-f9b2-4680-8456-0eadb5eb8c2f",
   "metadata": {
    "id": "3fadaf0c-f9b2-4680-8456-0eadb5eb8c2f"
   },
   "source": [
    "# Exercise 1: `REINFORCE` Implementation (warm up)"
   ]
  },
  {
   "cell_type": "markdown",
   "id": "Dk0EFuXUOpXz",
   "metadata": {
    "id": "Dk0EFuXUOpXz"
   },
   "source": [
    "## Policy Net\n",
    "A simple policy network with one hidden layer and a temperature parameter to smooth the output (the higher the temperature the smoother the output)\n"
   ]
  },
  {
   "cell_type": "code",
   "execution_count": 4,
   "id": "16ea9416-b07e-4354-bf36-1150394b0698",
   "metadata": {
    "id": "16ea9416-b07e-4354-bf36-1150394b0698"
   },
   "outputs": [],
   "source": [
    "class PolicyNet(nn.Module):\n",
    "    def __init__(self, env, hidden_layers=32, temperature=1):\n",
    "        super().__init__()\n",
    "        self.temperature = temperature\n",
    "        self.fc1 = nn.Linear(env.observation_space.shape[0], hidden_layers)\n",
    "        self.fc2 = nn.Linear(hidden_layers, env.action_space.n)\n",
    "        self.relu = nn.ReLU()\n",
    "\n",
    "    def forward(self, s):\n",
    "        s = F.relu(self.fc1(s))\n",
    "        s = F.softmax(self.fc2(s)/self.temperature, dim=-1)\n",
    "        return s"
   ]
  },
  {
   "cell_type": "markdown",
   "id": "uvEAh3bgOWTz",
   "metadata": {
    "id": "uvEAh3bgOWTz"
   },
   "source": [
    "## Episode Runner\n",
    "Class that runs the training episodes collecting all the useful info."
   ]
  },
  {
   "cell_type": "code",
   "execution_count": 5,
   "id": "cbd2dd9d-a60b-4892-878f-d83f64ac5f63",
   "metadata": {
    "id": "cbd2dd9d-a60b-4892-878f-d83f64ac5f63",
    "tags": []
   },
   "outputs": [],
   "source": [
    "# A class that , given an environment, a policy network and the max lenght of the episode is in charge\n",
    "# of running it\n",
    "class Episode_runner:\n",
    "    def __init__(self, env, policy, maxlen=500):\n",
    "        self.env = env\n",
    "        self.policy = policy\n",
    "        self.maxlen= maxlen\n",
    "\n",
    "    # Given observation and the policy, sample from pi(a | obs). Returns the\n",
    "    # selected action and the log probability of that action (needed for policy gradient).\n",
    "    def select_action(self, obs):\n",
    "        dist = Categorical(self.policy(obs))\n",
    "        action = dist.sample()\n",
    "        log_prob = dist.log_prob(action)\n",
    "        return (action.item(), log_prob.reshape(1))\n",
    "\n",
    "    # Given the environment and the policy, run it up to the maximum number of steps.\n",
    "    def run_episode(self):\n",
    "        # Collect just about everything.\n",
    "        observations = []\n",
    "        actions = []\n",
    "        log_probs = []\n",
    "        rewards = []\n",
    "\n",
    "        # Reset the environment and start the episode.\n",
    "        (obs, info) = self.env.reset() \n",
    "        for i in range(self.maxlen):\n",
    "            # Get the current observation, run the policy and select an action.\n",
    "            obs = torch.tensor(obs)\n",
    "            (action, log_prob) = self.select_action(obs)\n",
    "            observations.append(obs)\n",
    "            actions.append(action)\n",
    "            log_probs.append(log_prob)\n",
    "\n",
    "            # Advance the episode by executing the selected action.\n",
    "            (obs, reward, term, trunc, info) = self.env.step(action)\n",
    "            rewards.append(reward)\n",
    "            if term or trunc:\n",
    "                break\n",
    "        return (observations, actions, torch.cat(log_probs), rewards)\n"
   ]
  },
  {
   "cell_type": "markdown",
   "id": "cfdc5787-1c38-4f5c-b716-e40e900d00d2",
   "metadata": {},
   "source": [
    "## Deterministic Episode Runner\n",
    "Class that runs the testing episodes. The main difference with the training Episode Runner is that the action selected is always the one with the maximum probability, hence why it's called deterministic.\n",
    "\n",
    "To test the current best policy, the total average reward and episode length is calculated using the best policy in a deterministic manner on test_episodes episodes."
   ]
  },
  {
   "cell_type": "code",
   "execution_count": 6,
   "id": "f505e44c-0d5e-48f1-b874-d318424b3ab0",
   "metadata": {},
   "outputs": [],
   "source": [
    "# A class that , given an episode runner (with an environment and a policy network), an episode render to show the policy \n",
    "# and the max lenght of each episode evaluates the quality of the learned policy network, \n",
    "# always selecting the action with max probability \n",
    "class Determinist_Test_Episode_runner:\n",
    "    def __init__(self, episode_runner, episode_runner_render, maxlen=500):\n",
    "        self.ep_runner = episode_runner\n",
    "        self.ep_run_render = episode_runner_render\n",
    "        self.maxlen= maxlen\n",
    "\n",
    "    #select the most probable action given the policy and current observation\n",
    "    def select_action(self, obs):\n",
    "        dist = Categorical(self.ep_runner.policy(obs))\n",
    "        action= torch.argmax(dist.log_prob(dist.enumerate_support()))\n",
    "        return action.item()\n",
    "\n",
    "    # Given the environment and the policy, run it up to the maximum number of steps \n",
    "    def run_episode(self):\n",
    "        # Collect just about everything.\n",
    "        observations = []\n",
    "        actions = []\n",
    "        rewards = []\n",
    "\n",
    "        # Reset the environment and start the episode.\n",
    "        (obs, info) = self.ep_runner.env.reset() \n",
    "        for i in range(self.maxlen):\n",
    "            # Get the current observation, run the policy and select an action.\n",
    "            obs = torch.tensor(obs)\n",
    "            action = self.select_action(obs)\n",
    "            observations.append(obs)\n",
    "            actions.append(action)\n",
    "\n",
    "            # Advance the episode by executing the selected action.\n",
    "            (obs, reward, term, trunc, info) = self.ep_runner.env.step(action)\n",
    "            rewards.append(reward)\n",
    "            if term or trunc:\n",
    "                break\n",
    "        return (observations, actions, rewards)\n",
    "\n",
    "    def test(self, test_episodes):\n",
    "        print('Testing the best policy')\n",
    "        self.ep_runner.policy.eval()\n",
    "        total_reward = 0\n",
    "        episode_lengths = []\n",
    "        for _ in range(test_episodes):\n",
    "            (_, _, rewards) = self.run_episode()\n",
    "            total_reward += np.sum(rewards)\n",
    "            episode_lengths.append(len(rewards))\n",
    "        test_average_episode_len_metric = {\"test_average_episode_length\": np.mean(episode_lengths)}\n",
    "        test_average_rewards_metric = {\"test_average_total_reward\": total_reward / test_episodes}\n",
    "        wandb.log({**test_average_rewards_metric, **test_average_episode_len_metric})\n",
    "\n",
    "        (obs, _, _, _) = self.ep_run_render.run_episode()\n",
    "        self.ep_runner.policy.train()\n",
    "        print(f'Average Total reward: {total_reward / test_episodes}')"
   ]
  },
  {
   "cell_type": "markdown",
   "id": "BhypW9ySOthT",
   "metadata": {
    "id": "BhypW9ySOthT"
   },
   "source": [
    "## Reinforce\n",
    "Implementation of REINFORCE policy gradient algorithm.\n",
    "\n",
    "It receives two \"training\" episode runners, one to train the policy and one to show the rendering of some episodes if display = True to see the progress.\n",
    "The training parameters are:\n",
    "- gamma: used to compute discounted total reward, balances the importance of immediate versus future reward. A higher value gives a higher weight to future rewards while a lower value prioritizes immediate rewards.\n",
    "- baseline: the type of baseline used to compute the value function. None (no baseline), std (standard baseline, standardize rewards within the episode) or a ValueNet (the value function is approximated by a Neural Network with the same architecture as the policy network)\n",
    "- num_episodes: number of training episodes to train the policy and baseline net\n",
    "- eval_every: after how many training episodes the policy is evaluated\n",
    "- eval_episodes: the number of episodes the policy is evaluated on\n",
    "- lr and lr_baseline: learning rates of the policy and baseline net\n",
    "\n",
    "Given all these inputs, for each episode, the discounted reward, running reward and episode length (in the cartpole case the episode length is equal to the reward of that episode) are computed. If there is a baseline, the policy loss, that is used to optimize the policy, is calculated with the target value. If the baseline is a Neural Network it is also optimized using its loss (how closely it approximates the value function).\n",
    "\n",
    "After eval_every episodes of training the policy is evaluated on eval_episodes episodes. Instead of using the running average the function calculates the average total reward of the episodes that were runned and their average length. As previously said, these two quantities are the same in Cartpole since the reward of each episode is its length. During this evaluation the best model (the one with the best average reward) is saved.\n",
    "\n",
    "I also chose to collect all the episodes lengths and losses, every 10 episodes are aggregated in a single value (the mean) to create graphs that are easier to read.\n",
    "\n",
    "Lastly, the function calculates the average episode length of the entire training to show a general trend, it can be used to investigate the stability of a training and how fast it is able to converge.\n",
    "\n"
   ]
  },
  {
   "cell_type": "code",
   "execution_count": 7,
   "id": "2a50f666-126a-4a16-9cbc-d9c846a1c3a7",
   "metadata": {
    "id": "2a50f666-126a-4a16-9cbc-d9c846a1c3a7"
   },
   "outputs": [],
   "source": [
    "# Utility to compute the discounted total reward. Torch doesn't like flipped arrays, so we need to\n",
    "# .copy() the final numpy array.\n",
    "def compute_returns(rewards, gamma):\n",
    "    return np.flip(np.cumsum([gamma**(i+1)*r for (i, r) in enumerate(rewards)][::-1]), 0).copy()\n",
    "\n",
    "# Implementation of the REINFORCE policy gradient algorithm.\n",
    "# It receives the episode runner, the wandb run to save the results, the episode runner render that is used to monitor training \n",
    "# when display = True, the gamma parameter, the number of episodes to train the policy and baseline net, the type of baseline used,\n",
    "# eval_every (after how many training steps we evaluate the policy), eval_episode (how many episodes we \n",
    "# evaluate the policy on) and the learning rates\n",
    "def reinforce(episode_runner, wandb, episode_runner_render=None, gamma=0.99, num_episodes=2000,\n",
    "              baseline=None, display=False, eval_every=100, eval_episodes=100, lr= 1e-2, lr_baseline = 1e-3 ):\n",
    "    # We use Adam instead of SGD.\n",
    "    opt = torch.optim.Adam(episode_runner.policy.parameters(), lr= lr)\n",
    "\n",
    "    # If we have a baseline network, create the optimizer.\n",
    "    if isinstance(baseline, nn.Module):\n",
    "        opt_baseline = torch.optim.Adam(baseline.parameters(), lr= lr_baseline)  \n",
    "        baseline.train()\n",
    "        print('Training agent with baseline value network.')\n",
    "    elif baseline == 'std':\n",
    "        print('Training agent with standardization baseline.')\n",
    "    else:\n",
    "        print('Training agent with no baseline.')\n",
    "\n",
    "    #Collect running rewards, all the episodes lengths and training loss\n",
    "    running_rewards = [0.0]\n",
    "    all_episodes_lenghts = []\n",
    "    training_losses = []\n",
    "    value_losses = []\n",
    "\n",
    "    #save the latest policy with the greatest average totale reward\n",
    "    best_model_state_dict = None\n",
    "    best_avg_tot_rew = 0\n",
    "    \n",
    "    # The main training loop.\n",
    "    episode_runner.policy.train()\n",
    "    for episode in range(1, num_episodes+1):\n",
    "        # Run an episode of the environment, collect everything needed for policy update.\n",
    "        (observations, actions, log_probs, rewards) = episode_runner.run_episode()\n",
    "\n",
    "        # Compute the discounted reward for every step of the episode.\n",
    "        returns = torch.tensor(compute_returns(rewards, gamma), dtype=torch.float32)\n",
    "        # Keep a running average of total discounted rewards for the whole episode.\n",
    "        running_rewards.append(0.05 * returns[0].item() + 0.95 * running_rewards[-1])\n",
    "        running_rewards_metric = {\"running_reward\": running_rewards[-1]}\n",
    "\n",
    "        # Handle baseline.\n",
    "        if isinstance(baseline, nn.Module):\n",
    "            with torch.no_grad():\n",
    "                target = returns - baseline(torch.stack(observations))\n",
    "        elif baseline == 'std':                                       #Standardize returns\n",
    "            target = (returns - returns.mean()) / returns.std()\n",
    "        else:\n",
    "            target = returns\n",
    "\n",
    "        # Make an optimization step\n",
    "        opt.zero_grad()\n",
    "        loss = (-log_probs * target).mean()\n",
    "        loss.backward()\n",
    "        opt.step()\n",
    "\n",
    "        # Collect each episode length and training loss\n",
    "        all_episodes_lenghts.append(len(returns))\n",
    "        training_losses.append(loss.detach().cpu().numpy())\n",
    "        \n",
    "        # Log only the mean training loss, episode lenght and running reward of 10 episode to make the graphs cleaner\n",
    "        if episode % 10 == 0:\n",
    "            loss_policy_metric = {\"loss_policy\": np.mean(training_losses[-10:])}\n",
    "            episode_length_metric = {\"episode_length\": np.mean(all_episodes_lenghts[-10:])}\n",
    "            wandb.log({**loss_policy_metric, **episode_length_metric}, commit = False)\n",
    "\n",
    "        # Update baseline network.\n",
    "        if isinstance(baseline, nn.Module):\n",
    "            opt_baseline.zero_grad()\n",
    "            loss_baseline = ((returns - baseline(torch.stack(observations)))**2.0).mean()\n",
    "            loss_baseline.backward()\n",
    "            opt_baseline.step()\n",
    "            value_losses.append(loss_baseline.detach().cpu().numpy())\n",
    "            if episode % 10 == 0:\n",
    "                loss_value_metric = {\"loss_value\": np.mean(value_losses[-10:])}\n",
    "                wandb.log({**loss_value_metric}, commit = False)\n",
    "\n",
    "        # Render and evaluate the current policy after every \"eval_every\" policy updates.\n",
    "        if episode % eval_every == 0:\n",
    "            episode_runner.policy.eval()\n",
    "            total_reward = 0\n",
    "            episode_lengths = []\n",
    "            #evaluate on \"eval_episodes\" episodes the total reward and the episodes length\n",
    "            for _ in range(eval_episodes):\n",
    "                (_, _, _, rewards) = episode_runner.run_episode()\n",
    "                total_reward += np.sum(rewards)\n",
    "                episode_lengths.append(len(rewards))\n",
    "            average_episode_len_metric = {\"average_episode_length\": np.mean(episode_lengths)}\n",
    "            average_rewards_metric = {\"average_total_reward\": total_reward / eval_episodes}\n",
    "            wandb.log({**average_rewards_metric, **average_episode_len_metric}, commit = False)\n",
    "            # Update best policy, the one with the best average total reward at testing time\n",
    "            if  total_reward / eval_episodes >= best_avg_tot_rew:\n",
    "                best_avg_tot_rew = total_reward / eval_episodes\n",
    "                # save all the parameters of the best policy\n",
    "                best_model_state_dict = episode_runner.policy.state_dict()\n",
    "            if display:\n",
    "                (obs, _, _, _) = episode_runner_render.run_episode()\n",
    "            episode_runner.policy.train()\n",
    "            print(f'Running reward of episode {episode}/{num_episodes}: {running_rewards[-1]}')\n",
    "            print(f'Average Total reward: {total_reward / eval_episodes}')\n",
    "        \n",
    "        wandb.log({**running_rewards_metric})\n",
    "\n",
    "    # Lastly, calculate and print the average episode lenght of the entire training\n",
    "    print(f'Average length of all episodes: {np.mean(all_episodes_lenghts)}')\n",
    "    average_all_episodes_metric= {\"average_lenght_all_episodes\": np.mean(all_episodes_lenghts)}\n",
    "    wandb.log({**average_all_episodes_metric})\n",
    "    \n",
    "    episode_runner.policy.eval()\n",
    "    if isinstance(baseline, nn.Module):\n",
    "        baseline.eval()\n",
    "    return best_model_state_dict\n",
    "    "
   ]
  },
  {
   "cell_type": "markdown",
   "id": "9aea05c3",
   "metadata": {},
   "source": [
    "# Standard runs\n",
    "In the following section I tested `REINFORCE` on the Cartpole environment using the standard baseline while changing the parameters (temperature and gamma).\n",
    "\n",
    "Since training the policy is stochastic, for each setting I performed the policy training 5 times with 5 different seeds to be able to replicate the experiments.\n",
    "\n",
    "At the end of this section there will be a wandb report with the results, for every setting the 5 runs are aggregated showing their mean and variance."
   ]
  },
  {
   "cell_type": "markdown",
   "id": "mkTymBWNPESI",
   "metadata": {
    "id": "mkTymBWNPESI"
   },
   "source": [
    "## Standard run\n",
    "Base parameters, temperature = 1 and gamma = 0.99"
   ]
  },
  {
   "cell_type": "code",
   "execution_count": null,
   "id": "378b440c-2b1d-42db-81f2-9bdd6d036d3a",
   "metadata": {
    "id": "378b440c-2b1d-42db-81f2-9bdd6d036d3a",
    "outputId": "396212df-359e-4c94-c804-398648e3f57b"
   },
   "outputs": [],
   "source": [
    "# Random seeds, to reproduce the same results\n",
    "seeds = [1, 11, 111, 1111, 11111]\n",
    "for i in range(len(seeds)):\n",
    "\n",
    "    # Training and arhitecture hyperparameters, initialise a wandb run\n",
    "    run=wandb.init(\n",
    "          project=\"Lab3-DRL-warmups\",\n",
    "          name = \"Standard Run \",\n",
    "          config={\n",
    "              \"hidden_layers\": 32,\n",
    "              \"num_episodes\": 2000,\n",
    "              \"gamma\": 0.99,\n",
    "              \"baseline\": 'std',\n",
    "              \"eval_every\":100,\n",
    "              \"eval_episodes\": 20,\n",
    "              \"test_episodes\" : 200,\n",
    "              \"temperature\" : 1,\n",
    "              \"lr\" : 1e-2,\n",
    "              \"lr_baseline\" : 1e-3\n",
    "              })\n",
    "    \n",
    "    # Copy the configuration\n",
    "    config = wandb.config\n",
    "\n",
    "    # Instaintiate two versions of cartpole, one that animates the episodes (which slows everything\n",
    "    # down), and another that does not animate.\n",
    "    env = gymnasium.make('CartPole-v1')\n",
    "    env_render = gymnasium.make('CartPole-v1', render_mode='human')\n",
    "\n",
    "    # Set the seed\n",
    "    torch.manual_seed(seeds[i])\n",
    "    env.reset(seed = seeds[i])\n",
    "    env_render.reset(seed = seeds[i])\n",
    "    \n",
    "    # Make a policy network.\n",
    "    policy = PolicyNet(env, config.hidden_layers, config.temperature)\n",
    "    \n",
    "    # Create episode_runner\n",
    "    episode_runner= Episode_runner(env, policy)\n",
    "    episode_runner_rend= Episode_runner(env_render, policy)\n",
    "    \n",
    "    # Train the agent\n",
    "    best_model_state_dict = reinforce(episode_runner, run, episode_runner_rend, gamma=config.gamma, num_episodes=config.num_episodes,\n",
    "              baseline= config.baseline, display=False, eval_every=config.eval_every,\n",
    "              eval_episodes=config.eval_episodes, lr= config.lr, lr_baseline = config.lr_baseline )\n",
    "    \n",
    "    # Load the best policy on the determinist episode runner to test it\n",
    "    episode_runner.policy.load_state_dict(best_model_state_dict)\n",
    "    det_ep_runner = Determinist_Test_Episode_runner(episode_runner, episode_runner_rend )\n",
    "    det_ep_runner.test(test_episodes=config.test_episodes)\n",
    "    \n",
    "    # Close up everything\n",
    "    env_render.close()\n",
    "    env.close()"
   ]
  },
  {
   "cell_type": "markdown",
   "id": "f3b48689-6e55-4f7d-aa56-c4ce6459e765",
   "metadata": {},
   "source": [
    "## Standard run and higher temperature (5)\n",
    "Higher temperature, temperature = 5 and gamma = 0.99"
   ]
  },
  {
   "cell_type": "code",
   "execution_count": null,
   "id": "ef897b43-445f-467b-8e2e-8bd9e30fc6b4",
   "metadata": {},
   "outputs": [],
   "source": [
    "#random seeds, to reproduce the same results\n",
    "seeds = [1, 11, 111, 1111, 11111]\n",
    "for i in range(len(seeds)):\n",
    "\n",
    "    # Training and arhitecture hyperparameters, initialise a wandb run\n",
    "    run=wandb.init(\n",
    "          project=\"Lab3-DRL-warmups\",\n",
    "          name = \"Standard and temperature 5 \",\n",
    "          config={\n",
    "              \"hidden_layers\": 32,\n",
    "              \"num_episodes\": 2000,\n",
    "              \"gamma\": 0.99,\n",
    "              \"baseline\": 'std',\n",
    "              \"eval_every\":100,\n",
    "              \"eval_episodes\": 20,\n",
    "              \"test_episodes\" : 200,\n",
    "              \"temperature\" : 5,\n",
    "              \"lr\" : 1e-2,\n",
    "              \"lr_baseline\" : 1e-3\n",
    "              })\n",
    "    \n",
    "    # Copy the configuration\n",
    "    config = wandb.config\n",
    "\n",
    "    #Instaintiate two versions of cartpole, one that animates the episodes (which slows everything\n",
    "    # down), and another that does not animate.\n",
    "    env = gymnasium.make('CartPole-v1')\n",
    "    env_render = gymnasium.make('CartPole-v1', render_mode='human')\n",
    "\n",
    "    #set the seed\n",
    "    torch.manual_seed(seeds[i])\n",
    "    env.reset(seed = seeds[i])\n",
    "    env_render.reset(seed = seeds[i])\n",
    "    \n",
    "    # Make a policy network.\n",
    "    policy = PolicyNet(env, config.hidden_layers, config.temperature)\n",
    "    \n",
    "    # Create episode_runner\n",
    "    episode_runner= Episode_runner(env, policy)\n",
    "    episode_runner_rend= Episode_runner(env_render, policy)\n",
    "    \n",
    "    # Train the agent\n",
    "    best_model_state_dict = reinforce(episode_runner, run, episode_runner_rend, gamma=config.gamma, num_episodes=config.num_episodes,\n",
    "              baseline= config.baseline, display=False, eval_every=config.eval_every,\n",
    "              eval_episodes=config.eval_episodes, lr= config.lr, lr_baseline = config.lr_baseline )\n",
    "    \n",
    "    # Load the best policy on the determinist episode runner to test it\n",
    "    episode_runner.policy.load_state_dict(best_model_state_dict)\n",
    "    det_ep_runner = Determinist_Test_Episode_runner(episode_runner, episode_runner_rend )\n",
    "    det_ep_runner.test(test_episodes=config.test_episodes)\n",
    "    \n",
    "    # Close up everything\n",
    "    env_render.close()\n",
    "    env.close()"
   ]
  },
  {
   "cell_type": "markdown",
   "id": "8b98a63e-5e66-4ecc-98b7-ce1341a1e81a",
   "metadata": {},
   "source": [
    "## Standard run and higher temperature (10)\n",
    "Even higher temperature, temperature = 10 and gamma = 0.99"
   ]
  },
  {
   "cell_type": "code",
   "execution_count": null,
   "id": "578621a9-c76a-46c9-8a80-9b9411c7ee0e",
   "metadata": {},
   "outputs": [],
   "source": [
    "#random seeds, to reproduce the same results\n",
    "seeds = [1, 11, 111, 1111, 11111]\n",
    "for i in range(len(seeds)):\n",
    "\n",
    "    # Training and arhitecture hyperparameters, initialise a wandb run\n",
    "    run=wandb.init(\n",
    "          project=\"Lab3-DRL-warmups\",\n",
    "          name = \"Standard and temperature 10 \",\n",
    "          config={\n",
    "              \"hidden_layers\": 32,\n",
    "              \"num_episodes\": 2000,\n",
    "              \"gamma\": 0.99,\n",
    "              \"baseline\": 'std',\n",
    "              \"eval_every\":100,\n",
    "              \"eval_episodes\": 20,\n",
    "              \"test_episodes\" : 200,\n",
    "              \"temperature\" : 10,\n",
    "              \"lr\" : 1e-2,\n",
    "              \"lr_baseline\" : 1e-3\n",
    "              })\n",
    "    \n",
    "    # Copy the configuration\n",
    "    config = wandb.config\n",
    "\n",
    "    #Instaintiate two versions of cartpole, one that animates the episodes (which slows everything\n",
    "    # down), and another that does not animate.\n",
    "    env = gymnasium.make('CartPole-v1')\n",
    "    env_render = gymnasium.make('CartPole-v1', render_mode='human')\n",
    "\n",
    "    #set the seed\n",
    "    torch.manual_seed(seeds[i])\n",
    "    env.reset(seed = seeds[i])\n",
    "    env_render.reset(seed = seeds[i])\n",
    "    \n",
    "    # Make a policy network.\n",
    "    policy = PolicyNet(env, config.hidden_layers, config.temperature)\n",
    "    \n",
    "    # Create episode_runner\n",
    "    episode_runner= Episode_runner(env, policy)\n",
    "    episode_runner_rend= Episode_runner(env_render, policy)\n",
    "    \n",
    "    # Train the agent\n",
    "    best_model_state_dict = reinforce(episode_runner, run, episode_runner_rend, gamma=config.gamma, num_episodes=config.num_episodes,\n",
    "              baseline= config.baseline, display=False, eval_every=config.eval_every,\n",
    "              eval_episodes=config.eval_episodes, lr= config.lr, lr_baseline = config.lr_baseline )\n",
    "    \n",
    "    # Load the best policy on the determinist episode runner to test it\n",
    "    episode_runner.policy.load_state_dict(best_model_state_dict)\n",
    "    det_ep_runner = Determinist_Test_Episode_runner(episode_runner, episode_runner_rend )\n",
    "    det_ep_runner.test(test_episodes=config.test_episodes)\n",
    "    \n",
    "    # Close up everything\n",
    "    env_render.close()\n",
    "    env.close()"
   ]
  },
  {
   "cell_type": "markdown",
   "id": "a00e2878-19d2-410b-bb75-e468082ad22b",
   "metadata": {},
   "source": [
    "## Standard run and lower gamma\n",
    "Higher temperature (since it achieved better results) and lower gamma, temperature = 5 and gamma = 0.9"
   ]
  },
  {
   "cell_type": "code",
   "execution_count": null,
   "id": "41e338ef-b678-433f-8404-3ab28b34b287",
   "metadata": {},
   "outputs": [],
   "source": [
    "#random seeds, to reproduce the same results\n",
    "seeds = [1, 11, 111, 1111, 11111]\n",
    "for i in range(len(seeds)):\n",
    "\n",
    "    # Training and arhitecture hyperparameters, initialise a wandb run\n",
    "    run=wandb.init(\n",
    "          project=\"Lab3-DRL-warmups\",\n",
    "          name = \"Standard and gamma 0.9 \",\n",
    "          config={\n",
    "              \"hidden_layers\": 32,\n",
    "              \"num_episodes\": 2000,\n",
    "              \"gamma\": 0.9,\n",
    "              \"baseline\": 'std',\n",
    "              \"eval_every\":100,\n",
    "              \"eval_episodes\": 20,\n",
    "              \"test_episodes\" : 200,\n",
    "              \"temperature\" : 5,\n",
    "              \"lr\" : 1e-2,\n",
    "              \"lr_baseline\" : 1e-3\n",
    "              })\n",
    "    \n",
    "    # Copy the configuration\n",
    "    config = wandb.config\n",
    "\n",
    "    #Instaintiate two versions of cartpole, one that animates the episodes (which slows everything\n",
    "    # down), and another that does not animate.\n",
    "    env = gymnasium.make('CartPole-v1')\n",
    "    env_render = gymnasium.make('CartPole-v1', render_mode='human')\n",
    "\n",
    "    #set the seed\n",
    "    torch.manual_seed(seeds[i])\n",
    "    env.reset(seed = seeds[i])\n",
    "    env_render.reset(seed = seeds[i])\n",
    "    \n",
    "    # Make a policy network.\n",
    "    policy = PolicyNet(env, config.hidden_layers, config.temperature)\n",
    "    \n",
    "    # Create episode_runner\n",
    "    episode_runner= Episode_runner(env, policy)\n",
    "    episode_runner_rend= Episode_runner(env_render, policy)\n",
    "    \n",
    "    # Train the agent\n",
    "    best_model_state_dict = reinforce(episode_runner, run, episode_runner_rend, gamma=config.gamma, num_episodes=config.num_episodes,\n",
    "              baseline= config.baseline, display=False, eval_every=config.eval_every,\n",
    "              eval_episodes=config.eval_episodes, lr= config.lr, lr_baseline = config.lr_baseline )\n",
    "    \n",
    "    # Load the best policy on the determinist episode runner to test it\n",
    "    episode_runner.policy.load_state_dict(best_model_state_dict)\n",
    "    det_ep_runner = Determinist_Test_Episode_runner(episode_runner, episode_runner_rend )\n",
    "    det_ep_runner.test(test_episodes=config.test_episodes)\n",
    "    \n",
    "    # Close up everything\n",
    "    env_render.close()\n",
    "    env.close()"
   ]
  },
  {
   "cell_type": "markdown",
   "id": "f915a9b8",
   "metadata": {},
   "source": [
    "## Standard Runs Report\n",
    "This is the public report created with weights and biases: https://api.wandb.ai/links/marcouni/c8d6xyuv\n",
    "\n",
    "It is quite easy to see that the best performance is obtained when the temperature is 5 and gamma is 0.99. Its average total reward is almost always the highest and it is extremely fast to converge (highest average length of all episodes) to a very stable perfect policy (always able to reach the 500th step in each episode). Its test average reward is perfect, meaning that the final policy is one of the possible best policies for this environment.\n",
    "\n",
    "The standard run and the one with temperature = 10 are not that different, except that the latter seems to be a little slower to converge (lower average length of all episodes) but is more stable (perfect test average total reward).\n",
    "\n",
    "It is also clear that the worst run is the one with a lower gamma, being the worst by every metric. This result shows the importance of future steps (through the importance of future rewards) in Cartpole. "
   ]
  },
  {
   "cell_type": "markdown",
   "id": "2a5adad7-759b-4000-925b-701f41fe6e97",
   "metadata": {
    "id": "2a5adad7-759b-4000-925b-701f41fe6e97"
   },
   "source": [
    "# Exercise 2: `REINFORCE` with a Value Baseline (warm up)\n",
    "\n",
    "In this exercise we will augment my implementation (or your own) of `REINFORCE` to subtract a baseline from the target in the update equation in order to stabilize (and hopefully speed-up) convergence. For now we will stick to the Cartpole environment.\n",
    "\n"
   ]
  },
  {
   "cell_type": "markdown",
   "id": "8cdd5bc3-a439-4d84-891b-f4a840331e07",
   "metadata": {
    "id": "8cdd5bc3-a439-4d84-891b-f4a840331e07"
   },
   "source": [
    "**First Things First**: Recall from the slides on Deep Reinforcement Learning that we can **subtract** any function that doesn't depend on the current action from the q-value without changing the (maximum of our) objecttive function $J$:  \n",
    "\n",
    "$$ \\nabla J(\\boldsymbol{\\theta}) \\propto \\sum_{s} \\mu(s) \\sum_a \\left( q_{\\pi}(s, a) - b(s) \\right) \\nabla \\pi(a \\mid s, \\boldsymbol{\\theta}) $$\n",
    "\n",
    "In `REINFORCE` this means we can subtract from our target $G_t$:\n",
    "\n",
    "$$ \\boldsymbol{\\theta}_{t+1} \\triangleq \\boldsymbol{\\theta}_t + \\alpha (G_t - b(S_t)) \\frac{\\nabla \\pi(A_t \\mid s, \\boldsymbol{\\theta})}{\\pi(A_t \\mid s, \\boldsymbol{\\theta})} $$\n",
    "\n",
    "Since we are only interested in the **maximum** of our objective, we can also **rescale** our target by any function that also doesn't depend on the action. A **simple baseline** which is even independent of the state -- that is, it is **constant** for each episode -- is to just **standardize rewards within the episode**. So, we **subtract** the average return and **divide** by the variance of returns:\n",
    "\n",
    "$$ \\boldsymbol{\\theta}_{t+1} \\triangleq \\boldsymbol{\\theta}_t + \\alpha \\left(\\frac{G_t - \\bar{G}}{\\sigma_G}\\right) \\nabla  \\pi(A_t \\mid s, \\boldsymbol{\\theta}) $$\n",
    "\n",
    "This baseline is **already** implemented in my implementation of `REINFORCE`. Experiment with and without this standardization baseline and compare the performance. We are going to do something more interesting."
   ]
  },
  {
   "cell_type": "markdown",
   "id": "46cfde8e-f1c7-4d96-85e0-268f687e09df",
   "metadata": {
    "id": "46cfde8e-f1c7-4d96-85e0-268f687e09df"
   },
   "source": [
    "**The Real Exercise**: Standard practice is to use the state-value function $v(s)$ as a baseline. This is intuitively appealing -- we are more interested in updating out policy for returns that estimate the current **value** worse. Our new update becomes:\n",
    "\n",
    "$$ \\boldsymbol{\\theta}_{t+1} \\triangleq \\boldsymbol{\\theta}_t + \\alpha (G_t - \\tilde{v}(S_t \\mid \\mathbf{w})) \\frac{\\nabla \\pi(A_t \\mid s, \\boldsymbol{\\theta})}{\\pi(A_t \\mid s, \\boldsymbol{\\theta})} $$\n",
    "\n",
    "where $\\tilde{v}(s \\mid \\mathbf{w})$ is a **deep neural network** with parameters $w$ that estimates $v_\\pi(s)$. What neural network? Typically, we use the **same** network architecture as that of the Policy.\n",
    "\n",
    "**Your Task**: Modify your implementation to fit a second, baseline network to estimate the value function and use it as **baseline**."
   ]
  },
  {
   "cell_type": "markdown",
   "id": "62ed0e92",
   "metadata": {},
   "source": [
    "# Different baselines\n",
    "This section contains the results of the experiments with REINFORCE on Cartpole using different kinds of baselines (no baseline, standard baseline and a Value Net as a baseline).\n",
    "\n",
    "Since previously the best results were obtained with temperature = 5 and gamma = 0.99 these parameters will be used in all the following runs. I also experimented with changing the number of layers of the Policy and Value Nets.\n",
    "\n",
    "Once again, for each setting I performed the policy training 5 times with 5 different seeds to be able to replicate the experiments and at the end of this section there will be a wandb report with the results."
   ]
  },
  {
   "cell_type": "markdown",
   "id": "fb8f97e3",
   "metadata": {},
   "source": [
    "## Without the baseline\n",
    "Since I already experimented with Reinforce with the standard baseline the next run will not cointain a baseline of any kind"
   ]
  },
  {
   "cell_type": "code",
   "execution_count": null,
   "id": "76680bc1",
   "metadata": {},
   "outputs": [],
   "source": [
    "#random seeds, to reproduce the same results\n",
    "seeds = [1, 11, 111, 1111, 11111]\n",
    "for i in range(len(seeds)):\n",
    "\n",
    "    # Training and arhitecture hyperparameters, initialise a wandb run\n",
    "    run=wandb.init(\n",
    "          project=\"Lab3-DRL-warmups\",\n",
    "          name = \"Without the baseline \",\n",
    "          config={\n",
    "              \"hidden_layers\": 32,\n",
    "              \"num_episodes\": 2000,\n",
    "              \"gamma\": 0.99,\n",
    "              \"baseline\": None,\n",
    "              \"eval_every\":100,\n",
    "              \"eval_episodes\": 20,\n",
    "              \"test_episodes\" : 200,\n",
    "              \"temperature\" : 5,\n",
    "              \"lr\" : 1e-2,\n",
    "              \"lr_baseline\" : 1e-3\n",
    "              })\n",
    "    \n",
    "    # Copy the configuration\n",
    "    config = wandb.config\n",
    "\n",
    "    #Instaintiate two versions of cartpole, one that animates the episodes (which slows everything\n",
    "    # down), and another that does not animate.\n",
    "    env = gymnasium.make('CartPole-v1')\n",
    "    env_render = gymnasium.make('CartPole-v1', render_mode='human')\n",
    "\n",
    "    #set the seed\n",
    "    torch.manual_seed(seeds[i])\n",
    "    env.reset(seed = seeds[i])\n",
    "    env_render.reset(seed = seeds[i])\n",
    "    \n",
    "    # Make a policy network.\n",
    "    policy = PolicyNet(env, config.hidden_layers, config.temperature)\n",
    "    \n",
    "    # Create episode_runner\n",
    "    episode_runner= Episode_runner(env, policy)\n",
    "    episode_runner_rend= Episode_runner(env_render, policy)\n",
    "    \n",
    "    # Train the agent\n",
    "    best_model_state_dict = reinforce(episode_runner, run, episode_runner_rend, gamma=config.gamma, num_episodes=config.num_episodes,\n",
    "              baseline= config.baseline, display=False, eval_every=config.eval_every,\n",
    "              eval_episodes=config.eval_episodes, lr= config.lr, lr_baseline = config.lr_baseline )\n",
    "    \n",
    "    # Load the best policy on the determinist episode runner to test it\n",
    "    episode_runner.policy.load_state_dict(best_model_state_dict)\n",
    "    det_ep_runner = Determinist_Test_Episode_runner(episode_runner, episode_runner_rend )\n",
    "    det_ep_runner.test(test_episodes=config.test_episodes)\n",
    "    \n",
    "    # Close up everything\n",
    "    env_render.close()\n",
    "    env.close()"
   ]
  },
  {
   "cell_type": "markdown",
   "id": "ef2ad67f-180b-4009-a6e7-752fe1e4bc58",
   "metadata": {},
   "source": [
    "## With Baseline network\n",
    "Using ValueNet, a simple Net with the same architecture as the Policy Net that has to learn to estimate the value function"
   ]
  },
  {
   "cell_type": "code",
   "execution_count": 8,
   "id": "6187b4f3-568a-49a5-93f6-cc7cccb8cc2f",
   "metadata": {
    "id": "6187b4f3-568a-49a5-93f6-cc7cccb8cc2f"
   },
   "outputs": [],
   "source": [
    "class ValueNet(nn.Module):\n",
    "    def __init__(self, env, hidden_layers=32):\n",
    "        super().__init__()\n",
    "        self.fc1 = nn.Linear(env.observation_space.shape[0], hidden_layers)\n",
    "        self.fc2 = nn.Linear(hidden_layers, 1)\n",
    "        self.relu = nn.ReLU()\n",
    "\n",
    "    def forward(self, s):\n",
    "        s = F.relu(self.fc1(s))\n",
    "        s = self.fc2(s)\n",
    "        return s"
   ]
  },
  {
   "cell_type": "code",
   "execution_count": null,
   "id": "4de3a2a8-05c3-44e2-9858-8cc8f431325f",
   "metadata": {
    "id": "4de3a2a8-05c3-44e2-9858-8cc8f431325f"
   },
   "outputs": [],
   "source": [
    "#random seeds, to reproduce the same results\n",
    "seeds = [1, 11, 111, 1111, 11111]\n",
    "for i in range(len(seeds)):\n",
    "\n",
    "    # Training and arhitecture hyperparameters, initialise a wandb run\n",
    "    run=wandb.init(\n",
    "          project=\"Lab3-DRL-warmups\",\n",
    "          name = \"Baseline Network \",\n",
    "          config={\n",
    "              \"hidden_layers\": 32,\n",
    "              \"num_episodes\": 2000,\n",
    "              \"gamma\": 0.99,\n",
    "              \"baseline\": 'net',\n",
    "              \"eval_every\":100,\n",
    "              \"eval_episodes\": 20,\n",
    "              \"test_episodes\" : 200,\n",
    "              \"temperature\" : 5,\n",
    "              \"lr\" : 1e-2,\n",
    "              \"lr_baseline\" : 1e-3\n",
    "              })\n",
    "    \n",
    "    # Copy the configuration\n",
    "    config = wandb.config\n",
    "\n",
    "    #Instaintiate two versions of cartpole, one that animates the episodes (which slows everything\n",
    "    # down), and another that does not animate.\n",
    "    env = gymnasium.make('CartPole-v1')\n",
    "    env_render = gymnasium.make('CartPole-v1', render_mode='human')\n",
    "\n",
    "    #set the seed\n",
    "    torch.manual_seed(seeds[i])\n",
    "    env.reset(seed = seeds[i])\n",
    "    env_render.reset(seed = seeds[i])\n",
    "    \n",
    "    # Make a policy network.\n",
    "    policy = PolicyNet(env, config.hidden_layers, config.temperature)\n",
    "\n",
    "    # Make a value network\n",
    "    value = ValueNet(env, config.hidden_layers)\n",
    "    \n",
    "    # Create episode_runner\n",
    "    episode_runner= Episode_runner(env, policy)\n",
    "    episode_runner_rend= Episode_runner(env_render, policy)\n",
    "    \n",
    "    # Train the agent\n",
    "    best_model_state_dict = reinforce(episode_runner, run, episode_runner_rend, gamma=config.gamma, num_episodes=config.num_episodes,\n",
    "              baseline= value, display=False, eval_every=config.eval_every,\n",
    "              eval_episodes=config.eval_episodes, lr= config.lr, lr_baseline = config.lr_baseline )\n",
    "    \n",
    "    # Load the best policy on the determinist episode runner to test it\n",
    "    episode_runner.policy.load_state_dict(best_model_state_dict)\n",
    "    det_ep_runner = Determinist_Test_Episode_runner(episode_runner, episode_runner_rend )\n",
    "    det_ep_runner.test(test_episodes=config.test_episodes)\n",
    "    \n",
    "    # Close up everything\n",
    "    env_render.close()\n",
    "    env.close()"
   ]
  },
  {
   "cell_type": "markdown",
   "id": "9f186e88-9437-4453-b4f8-27c0d3c8e92f",
   "metadata": {},
   "source": [
    "## With baseline, 128 hidden layer\n",
    "Adding more hidden layers to the ValueNet and PolicyNet"
   ]
  },
  {
   "cell_type": "code",
   "execution_count": null,
   "id": "22488e84-fadd-44e7-b9a8-4d3ba72f0819",
   "metadata": {},
   "outputs": [],
   "source": [
    "#random seeds, to reproduce the same results\n",
    "seeds = [1, 11, 111, 1111, 11111]\n",
    "for i in range(len(seeds)):\n",
    "\n",
    "    # Training and arhitecture hyperparameters, initialise a wandb run\n",
    "    run=wandb.init(\n",
    "          project=\"Lab3-DRL-warmups\",\n",
    "          name = \"Baseline Network 128 layers temp 5\",\n",
    "          config={\n",
    "              \"hidden_layers\": 128,\n",
    "              \"num_episodes\": 2000,\n",
    "              \"gamma\": 0.99,\n",
    "              \"baseline\": 'net',\n",
    "              \"eval_every\":100,\n",
    "              \"eval_episodes\": 20,\n",
    "              \"test_episodes\" : 200,\n",
    "              \"temperature\" : 5,\n",
    "              \"lr\" : 1e-2,\n",
    "              \"lr_baseline\" : 1e-3\n",
    "              })\n",
    "    \n",
    "    # Copy the configuration\n",
    "    config = wandb.config\n",
    "\n",
    "    #Instaintiate two versions of cartpole, one that animates the episodes (which slows everything\n",
    "    # down), and another that does not animate.\n",
    "    env = gymnasium.make('CartPole-v1')\n",
    "    env_render = gymnasium.make('CartPole-v1', render_mode='human')\n",
    "\n",
    "    #set the seed\n",
    "    torch.manual_seed(seeds[i])\n",
    "    env.reset(seed = seeds[i])\n",
    "    env_render.reset(seed = seeds[i])\n",
    "    \n",
    "    # Make a policy network.\n",
    "    policy = PolicyNet(env, config.hidden_layers, config.temperature)\n",
    "\n",
    "    # Make a value network\n",
    "    value = ValueNet(env, config.hidden_layers)\n",
    "    \n",
    "    # Create episode_runner\n",
    "    episode_runner= Episode_runner(env, policy)\n",
    "    episode_runner_rend= Episode_runner(env_render, policy)\n",
    "    \n",
    "    # Train the agent\n",
    "    best_model_state_dict = reinforce(episode_runner, run, episode_runner_rend, gamma=config.gamma, num_episodes=config.num_episodes,\n",
    "              baseline= value, display=False, eval_every=config.eval_every,\n",
    "              eval_episodes=config.eval_episodes, lr= config.lr, lr_baseline = config.lr_baseline )\n",
    "    \n",
    "    # Load the best policy on the determinist episode runner to test it\n",
    "    episode_runner.policy.load_state_dict(best_model_state_dict)\n",
    "    det_ep_runner = Determinist_Test_Episode_runner(episode_runner, episode_runner_rend )\n",
    "    det_ep_runner.test(test_episodes=config.test_episodes)\n",
    "    \n",
    "    # Close up everything\n",
    "    env_render.close()\n",
    "    env.close()"
   ]
  },
  {
   "cell_type": "markdown",
   "id": "8ac2ae4a-f4e8-432d-aa66-fa50cc891a8a",
   "metadata": {},
   "source": [
    "## With baseline, 16 hidden layer\n",
    "Lowering the number of hidden layers of the ValueNet and PolicyNet"
   ]
  },
  {
   "cell_type": "code",
   "execution_count": null,
   "id": "ac0652b1-5cbf-4cc1-8e67-9d80ab45be18",
   "metadata": {},
   "outputs": [],
   "source": [
    "#random seeds, to reproduce the same results\n",
    "seeds = [1, 11, 111, 1111, 11111]\n",
    "for i in range(len(seeds)):\n",
    "\n",
    "    # Training and arhitecture hyperparameters, initialise a wandb run\n",
    "    run=wandb.init(\n",
    "          project=\"Lab3-DRL-warmups\",\n",
    "          name = \"Baseline Network 16 layers temp 5\",\n",
    "          config={\n",
    "              \"hidden_layers\": 16,\n",
    "              \"num_episodes\": 2000,\n",
    "              \"gamma\": 0.99,\n",
    "              \"baseline\": 'net',\n",
    "              \"eval_every\":100,\n",
    "              \"eval_episodes\": 20,\n",
    "              \"test_episodes\" : 200,\n",
    "              \"temperature\" : 5,\n",
    "              \"lr\" : 1e-2,\n",
    "              \"lr_baseline\" : 1e-3\n",
    "              })\n",
    "    \n",
    "    # Copy the configuration\n",
    "    config = wandb.config\n",
    "\n",
    "    #Instaintiate two versions of cartpole, one that animates the episodes (which slows everything\n",
    "    # down), and another that does not animate.\n",
    "    env = gymnasium.make('CartPole-v1')\n",
    "    env_render = gymnasium.make('CartPole-v1', render_mode='human')\n",
    "\n",
    "    #set the seed\n",
    "    torch.manual_seed(seeds[i])\n",
    "    env.reset(seed = seeds[i])\n",
    "    env_render.reset(seed = seeds[i])\n",
    "    \n",
    "    # Make a policy network.\n",
    "    policy = PolicyNet(env, config.hidden_layers, config.temperature)\n",
    "\n",
    "    # Make a value network\n",
    "    value = ValueNet(env, config.hidden_layers)\n",
    "    \n",
    "    # Create episode_runner\n",
    "    episode_runner= Episode_runner(env, policy)\n",
    "    episode_runner_rend= Episode_runner(env_render, policy)\n",
    "    \n",
    "    # Train the agent\n",
    "    best_model_state_dict = reinforce(episode_runner, run, episode_runner_rend, gamma=config.gamma, num_episodes=config.num_episodes,\n",
    "              baseline= value, display=False, eval_every=config.eval_every,\n",
    "              eval_episodes=config.eval_episodes, lr= config.lr, lr_baseline = config.lr_baseline )\n",
    "    \n",
    "    # Load the best policy on the determinist episode runner to test it\n",
    "    episode_runner.policy.load_state_dict(best_model_state_dict)\n",
    "    det_ep_runner = Determinist_Test_Episode_runner(episode_runner, episode_runner_rend )\n",
    "    det_ep_runner.test(test_episodes=config.test_episodes)\n",
    "    \n",
    "    # Close up everything\n",
    "    env_render.close()\n",
    "    env.close()"
   ]
  },
  {
   "cell_type": "markdown",
   "id": "137c1e91",
   "metadata": {},
   "source": [
    "## Baselines Runs Report\n",
    "This is the public report created with weights and biases: https://api.wandb.ai/links/marcouni/0ksdyjpo\n",
    "\n",
    "Once again the best setting seems to be the one with a standard baseline and temperature = 5, closely followed by the settings with baseline networks with 32 (standard) and 128 hidden layers (more layers achieve a slightly better result). Given these results using a standard baseline and temperature = 5 seems like the best case scenario for Cartpole.\n",
    "This is probably due to the simplicity (the standardized mean of the discounted return seems like a very good approximation of the value function) of the problem since its convergence is incredibly fast and stable. \n",
    "\n",
    "Using a ValueNet also leads to a stable training and a perfect policy (the test average total reward is perfect with 32 and 128 hidden layers) but seems to slow down the convergence as it needs more time to learn to approximate the value function. \n",
    "\n",
    "When the layers of the two Networks are not enough (16 hidden layers) they are unable to correctly approximate the value function and the policy.\n",
    "\n",
    "As expected the setting with no baseline produces the worst results, the runs are much less stable, as it can be seen in average total reward and average length all episodes. The final policy is also extremely unstable, it can be perfect or horrible ( test average total reward has a very high variance)."
   ]
  },
  {
   "cell_type": "markdown",
   "id": "9fbc5eec-9ebc-4867-b698-cfefbe6387d8",
   "metadata": {},
   "source": [
    " # Longer runs\n",
    " Lastly I also experiments with much longer runs with two of the best settings, with standard baseline and ValueNet, to see if their performance gap was due to the number of training episodes."
   ]
  },
  {
   "cell_type": "code",
   "execution_count": null,
   "id": "3a52700c-e8cd-4048-b567-bb885b9eea04",
   "metadata": {},
   "outputs": [],
   "source": [
    "#random seeds, to reproduce the same results\n",
    "seeds = [1, 11, 111, 1111, 11111]\n",
    "for i in range(len(seeds)):\n",
    "\n",
    "    # Training and arhitecture hyperparameters, initialise a wandb run\n",
    "    run=wandb.init(\n",
    "          project=\"Lab3-DRL-warmups\",\n",
    "          name = \"Long Standard\",\n",
    "          config={\n",
    "              \"hidden_layers\": 32,\n",
    "              \"num_episodes\": 5000,\n",
    "              \"gamma\": 0.99,\n",
    "              \"baseline\": 'std',\n",
    "              \"eval_every\":100,\n",
    "              \"eval_episodes\": 50,\n",
    "              \"test_episodes\" : 500,\n",
    "              \"temperature\" : 5,\n",
    "              \"lr\" : 1e-2,\n",
    "              \"lr_baseline\" : 1e-3\n",
    "              })\n",
    "    \n",
    "    # Copy the configuration\n",
    "    config = wandb.config\n",
    "\n",
    "    #Instaintiate two versions of cartpole, one that animates the episodes (which slows everything\n",
    "    # down), and another that does not animate.\n",
    "    env = gymnasium.make('CartPole-v1')\n",
    "    env_render = gymnasium.make('CartPole-v1', render_mode='human')\n",
    "\n",
    "    #set the seed\n",
    "    torch.manual_seed(seeds[i])\n",
    "    env.reset(seed = seeds[i])\n",
    "    env_render.reset(seed = seeds[i])\n",
    "    \n",
    "    # Make a policy network.\n",
    "    policy = PolicyNet(env, config.hidden_layers, config.temperature)\n",
    "    \n",
    "    # Create episode_runner\n",
    "    episode_runner= Episode_runner(env, policy)\n",
    "    episode_runner_rend= Episode_runner(env_render, policy)\n",
    "    \n",
    "    # Train the agent\n",
    "    best_model_state_dict = reinforce(episode_runner, run, episode_runner_rend, gamma=config.gamma, num_episodes=config.num_episodes,\n",
    "              baseline= config.baseline, display=False, eval_every=config.eval_every,\n",
    "              eval_episodes=config.eval_episodes, lr= config.lr, lr_baseline = config.lr_baseline )\n",
    "    \n",
    "    # Load the best policy on the determinist episode runner to test it\n",
    "    episode_runner.policy.load_state_dict(best_model_state_dict)\n",
    "    det_ep_runner = Determinist_Test_Episode_runner(episode_runner, episode_runner_rend )\n",
    "    det_ep_runner.test(test_episodes=config.test_episodes)\n",
    "    \n",
    "    # Close up everything\n",
    "    env_render.close()\n",
    "    env.close()"
   ]
  },
  {
   "cell_type": "code",
   "execution_count": null,
   "id": "1cf6d680-b49d-4b82-81e8-fb431e225e48",
   "metadata": {},
   "outputs": [],
   "source": [
    "#random seeds, to reproduce the same results\n",
    "seeds = [1, 11, 111, 1111, 11111]\n",
    "for i in range(len(seeds)):\n",
    "\n",
    "    # Training and arhitecture hyperparameters, initialise a wandb run\n",
    "    run=wandb.init(\n",
    "          project=\"Lab3-DRL-warmups\",\n",
    "          name = \"Long Baseline Network \",\n",
    "          config={\n",
    "              \"hidden_layers\": 32,\n",
    "              \"num_episodes\": 5000,\n",
    "              \"gamma\": 0.99,\n",
    "              \"baseline\": 'net',\n",
    "              \"eval_every\":100,\n",
    "              \"eval_episodes\": 50,\n",
    "              \"test_episodes\" : 500,\n",
    "              \"temperature\" : 5,\n",
    "              \"lr\" : 1e-2,\n",
    "              \"lr_baseline\" : 1e-3\n",
    "              })\n",
    "    \n",
    "    # Copy the configuration\n",
    "    config = wandb.config\n",
    "\n",
    "    #Instaintiate two versions of cartpole, one that animates the episodes (which slows everything\n",
    "    # down), and another that does not animate.\n",
    "    env = gymnasium.make('CartPole-v1')\n",
    "    env_render = gymnasium.make('CartPole-v1', render_mode='human')\n",
    "\n",
    "    #set the seed\n",
    "    torch.manual_seed(seeds[i])\n",
    "    env.reset(seed = seeds[i])\n",
    "    env_render.reset(seed = seeds[i])\n",
    "    \n",
    "    # Make a policy network.\n",
    "    policy = PolicyNet(env, config.hidden_layers, config.temperature)\n",
    "\n",
    "    # Make a value network\n",
    "    value = ValueNet(env, config.hidden_layers)\n",
    "    \n",
    "    # Create episode_runner\n",
    "    episode_runner= Episode_runner(env, policy)\n",
    "    episode_runner_rend= Episode_runner(env_render, policy)\n",
    "    \n",
    "    # Train the agent\n",
    "    best_model_state_dict = reinforce(episode_runner, run, episode_runner_rend, gamma=config.gamma, num_episodes=config.num_episodes,\n",
    "              baseline= value, display=False, eval_every=config.eval_every,\n",
    "              eval_episodes=config.eval_episodes, lr= config.lr, lr_baseline = config.lr_baseline )\n",
    "    \n",
    "    # Load the best policy on the determinist episode runner to test it\n",
    "    episode_runner.policy.load_state_dict(best_model_state_dict)\n",
    "    det_ep_runner = Determinist_Test_Episode_runner(episode_runner, episode_runner_rend )\n",
    "    det_ep_runner.test(test_episodes=config.test_episodes)\n",
    "    \n",
    "    # Close up everything\n",
    "    env_render.close()\n",
    "    env.close()"
   ]
  },
  {
   "cell_type": "markdown",
   "id": "92c664f9",
   "metadata": {},
   "source": [
    "## Longer Runs Report\n",
    "This is the public report created with weights and biases: https://api.wandb.ai/links/marcouni/r8dqdyc5\n",
    "\n",
    "It is clear that increasing the number of training episodes deteriorates both settings' performances, making the training more unstable and the final policy less good. The one that suffers a worse decline in reward is the one with ValueNet, probably due to overfitting. \n"
   ]
  },
  {
   "cell_type": "markdown",
   "id": "64bf1447-d222-4b24-a357-5b7f9824390c",
   "metadata": {
    "id": "64bf1447-d222-4b24-a357-5b7f9824390c"
   },
   "source": [
    "-----\n",
    "# Exercise 3: Going Deeper\n",
    "\n",
    "As usual, pick **AT LEAST ONE** of the following exercises to complete.\n",
    "\n",
    "### Exercise 3.1: Solving Lunar Lander with `REINFORCE` (easy)\n",
    "\n",
    "Use my (or even better, improve on my) implementation of `REINFORCE` to solve the [Lunar Lander Environment](https://gymnasium.farama.org/environments/box2d/lunar_lander/). This environment is a little bit harder than Cartpole, but not much. Make sure you perform the same types of analyses we did during the lab session to quantify and qualify the performance of your agents.\n",
    "\n",
    "### Exercise 3.2: Solving Cartpole and Lunar Lander with `Deep Q-Learning` (harder)\n",
    "\n",
    "On policy Deep Reinforcement Learning tends to be **very unstable**. Write an implementation (or adapt an existing one) of `Deep Q-Learning` to solve our two environments (Cartpole and Lunar Lander). To do this you will need to implement a **Replay Buffer** and use a second, slow-moving **target Q-Network** to stabilize learning.\n",
    "\n",
    "### Exercise 3.3: Solving the OpenAI CarRacing environment (hardest)\n",
    "\n",
    "Use `Deep Q-Learning` -- or even better, an off-the-shelf implementation of **Proximal Policy Optimization (PPO)** -- to train an agent to solve the [OpenAI CarRacing](https://github.com/andywu0913/OpenAI-GYM-CarRacing-DQN) environment. This will be the most *fun*, but also the most *difficult*. Some tips:\n",
    "\n",
    "1. Make sure you use the `continuous=False` argument to the environment constructor. This ensures that the action space is **discrete** (we haven't seen how to work with continuous action spaces).\n",
    "2. Your Q-Network will need to be a CNN. A simple one should do, with two convolutional + maxpool layers, folowed by a two dense layers. You will **definitely** want to use a GPU to train your agents.\n",
    "3. The observation space of the environment is a single **color image** (a single frame of the game). Most implementations stack multiple frames (e.g. 3) after converting them to grayscale images as an observation.\n",
    "\n"
   ]
  },
  {
   "cell_type": "markdown",
   "id": "11d99e29",
   "metadata": {},
   "source": [
    "## CarRacing-v2 environment"
   ]
  },
  {
   "cell_type": "markdown",
   "id": "00a79147",
   "metadata": {},
   "source": [
    "The raw frames are preprocessed by cropping an 84 × 84 region of the image that roughly captures the playing area (every frame always contains a black area at the bottom of the frame, so we cut that black area) and converting their RGB representation to gray-scale."
   ]
  },
  {
   "cell_type": "code",
   "execution_count": 15,
   "id": "eb9fe414",
   "metadata": {},
   "outputs": [],
   "source": [
    "import cv2\n",
    "\n",
    "def preprocess(img):\n",
    "    img = img[:84, 6:90] # CarRacing-v2-specific cropping\n",
    "    \n",
    "    img = cv2.cvtColor(img, cv2.COLOR_RGB2GRAY) / 255.0\n",
    "    return img"
   ]
  },
  {
   "cell_type": "markdown",
   "id": "cd508d6c",
   "metadata": {},
   "source": [
    "The game screen gradually zooms in for the first 50 steps, thus, we will not use the first 50 steps of the game.\n",
    "\n",
    "The preprocessing is applied to the last 4 frames, they are stacked to produce the input to the Q-function.\n",
    "\n",
    "A simple frame-skipping technique is used: the agent sees and selects actions on every kth frame instead of every frame and its last action is repeated on skipped frames. Running the emulator forward for one step requires much less computation than having the agent select an action, this technique allows the agent to play roughly k times more games without significantly increasing the runtime.\n",
    "\n",
    "ImageEnv is a gymnasium wrapper that redefines reset() and step() following the previously defined changes."
   ]
  },
  {
   "cell_type": "code",
   "execution_count": 24,
   "id": "206ce119",
   "metadata": {},
   "outputs": [],
   "source": [
    "class ImageEnv(gymnasium.Wrapper):\n",
    "    def __init__(\n",
    "        self,\n",
    "        env,\n",
    "        skip_frames=4,         # How many frames are skipped\n",
    "        stack_frames=4,        # How many frames to stack\n",
    "        initial_no_op=50,      # No actions during the zoom in\n",
    "        **kwargs\n",
    "    ):\n",
    "        super(ImageEnv, self).__init__(env, **kwargs)\n",
    "        self.initial_no_op = initial_no_op\n",
    "        self.skip_frames = skip_frames\n",
    "        self.stack_frames = stack_frames\n",
    "    \n",
    "    def reset(self, seed = None, options = None ):\n",
    "        # Reset the original environment.\n",
    "        state, info = self.env.reset(seed= seed, options=options )\n",
    "\n",
    "        # Do nothing for the first `self.initial_no_op` steps, zoom in\n",
    "        for _ in range(self.initial_no_op):\n",
    "            state, _, _, _, info = self.env.step(0)   # action 0 : do nothing\n",
    "        \n",
    "        # Convert a frame to 84 X 84 gray scale one\n",
    "        state = preprocess(state)\n",
    "\n",
    "        # The initial observation is simply a copy of the frame `s`, np.tile repeats s self.stack_frames times\n",
    "        self.stacked_state = np.tile(state, (self.stack_frames, 1, 1))  # [4, 84, 84]\n",
    "        return self.stacked_state, info\n",
    "    \n",
    "    def step(self, action):\n",
    "        # We take the same action for self.skip_frames steps\n",
    "        reward = 0\n",
    "        for _ in range(self.skip_frames):\n",
    "            state, r, terminated, truncated, info = self.env.step(action)\n",
    "            reward += r\n",
    "            if terminated or truncated:\n",
    "                break\n",
    "\n",
    "        # Convert a frame to 84 X 84 gray scale one\n",
    "        state = preprocess(state)\n",
    "\n",
    "        # Push the current frame `state` at the end of self.stacked_state while removing the oldest frame\n",
    "        self.stacked_state = np.concatenate((self.stacked_state[1:], state[np.newaxis]), axis=0)\n",
    "\n",
    "        return self.stacked_state, reward, terminated, truncated, info"
   ]
  },
  {
   "cell_type": "code",
   "execution_count": 25,
   "id": "3ce29bba",
   "metadata": {},
   "outputs": [
    {
     "name": "stdout",
     "output_type": "stream",
     "text": [
      "The shape of an observation:  (4, 84, 84)\n"
     ]
    },
    {
     "data": {
      "image/png": "[encoded data removed]",
      "text/plain": [
       "<Figure size 2000x500 with 4 Axes>"
      ]
     },
     "metadata": {},
     "output_type": "display_data"
    }
   ],
   "source": [
    "# Discrete action space: do nothing, steer left, steer right, gas, brake.\n",
    "env = gymnasium.make('CarRacing-v2', continuous=False)\n",
    "env = ImageEnv(env)\n",
    "\n",
    "# Check reset\n",
    "state, _ = env.reset()\n",
    "print(\"The shape of an observation: \", state.shape)\n",
    "\n",
    "fig, axes = plt.subplots(1, 4, figsize=(20, 5))\n",
    "for i in range(4):\n",
    "    axes[i].imshow(state[i], cmap='gray')\n",
    "    axes[i].axis('off')\n",
    "plt.show()"
   ]
  },
  {
   "cell_type": "code",
   "execution_count": 26,
   "id": "0497fa6f",
   "metadata": {},
   "outputs": [
    {
     "data": {
      "image/png": "[encoded data removed]",
      "text/plain": [
       "<Figure size 2000x500 with 4 Axes>"
      ]
     },
     "metadata": {},
     "output_type": "display_data"
    }
   ],
   "source": [
    "# Check step, gas action for 4 steps, check moving background\n",
    "for i in range(4):\n",
    "    state, r, terminated, truncated, info = env.step(3)  # 3rd action is `gas` action\n",
    "\n",
    "fig, axes = plt.subplots(1, 4, figsize=(20, 5))\n",
    "for i in range(4):\n",
    "    axes[i].imshow(state[i], cmap='gray')\n",
    "    axes[i].axis('off')\n",
    "plt.show()"
   ]
  },
  {
   "cell_type": "markdown",
   "id": "f81ccdfb",
   "metadata": {},
   "source": [
    "## DQN\n",
    "A Neural Network that takes in n_observations frames and tries to predict the expected return of taking each possible action given the current input."
   ]
  },
  {
   "cell_type": "code",
   "execution_count": 27,
   "id": "62abd4a3",
   "metadata": {},
   "outputs": [],
   "source": [
    "import torch\n",
    "import torch.nn as nn\n",
    "\n",
    "class NetDQN(nn.Module):\n",
    "\n",
    "    def __init__(self, n_observations, n_actions):\n",
    "        super(NetDQN, self).__init__()\n",
    "        self.conv1 = nn.Conv2d(n_observations, 16, kernel_size=7, stride=3)\n",
    "        self.conv2 = nn.Conv2d(16, 32, kernel_size=4)\n",
    "        # Image 5*5 after convolutions and max pooling\n",
    "        self.fc1 = nn.Linear(32*5*5, 256)  \n",
    "        self.fc2 = nn.Linear(256, n_actions)   \n",
    "        self.max_pool= nn.MaxPool2d(kernel_size= (2,2))\n",
    "        self.relu = nn.ReLU(inplace=True)\n",
    "\n",
    "\n",
    "    def forward(self, x):\n",
    "        x = self.relu(self.conv1(x))\n",
    "        x = self.max_pool(x)\n",
    "        x = self.relu(self.conv2(x))\n",
    "        x = self.max_pool(x)\n",
    "        x = torch.flatten(x,1)\n",
    "        x = self.relu(self.fc1(x))\n",
    "        x = self.fc2(x)\n",
    "        return x"
   ]
  },
  {
   "cell_type": "markdown",
   "id": "477c8877",
   "metadata": {},
   "source": [
    "## Replay Buffer\n",
    "It stores the transitions (state, action, next state, reward) that the agent observes, allowing us to reuse this data later. By sampling from it randomly, the transitions that build up a batch are decorrelated."
   ]
  },
  {
   "cell_type": "code",
   "execution_count": 28,
   "id": "682bf902",
   "metadata": {},
   "outputs": [],
   "source": [
    "class ReplayBuffer():\n",
    "\tdef __init__(self, state_dim, action_dim, max_size=int(1e5)):\n",
    "\t\tself.max_size = max_size\n",
    "\t\tself.ptr = 0     # Pointer\n",
    "\t\tself.size = 0    # Current size\n",
    "\n",
    "\t\tself.state = np.zeros((max_size, *state_dim), dtype=np.float32)\n",
    "\t\tself.action = np.zeros((max_size, *action_dim), dtype=np.int64)\n",
    "\t\tself.next_state = np.zeros((max_size, *state_dim), dtype=np.float32)\n",
    "\t\tself.reward = np.zeros((max_size, 1), dtype=np.float32)\n",
    "\t\tself.terminated = np.zeros((max_size, 1), dtype=np.float32)\n",
    "\n",
    "\t\tself.device = torch.device(\"cuda\" if torch.cuda.is_available() else \"cpu\")\n",
    "\n",
    "\n",
    "\tdef add(self, state, action, next_state, reward, terminated):\n",
    "\t\tself.state[self.ptr] = state\n",
    "\t\tself.action[self.ptr] = action\n",
    "\t\tself.next_state[self.ptr] = next_state\n",
    "\t\tself.reward[self.ptr] = reward\n",
    "\t\tself.terminated[self.ptr] = terminated\n",
    "\n",
    "        # Update pointer and current size\n",
    "\t\tself.ptr = (self.ptr + 1) % self.max_size  \n",
    "\t\tself.size = min(self.size + 1, self.max_size)\n",
    "\n",
    "\n",
    "\tdef sample(self, batch_size):\n",
    "\t\t# Collect batch_size random integers from 0 to current size \n",
    "\t\tind = np.random.randint(0, self.size, size=batch_size)\n",
    "\n",
    "\t\treturn (\n",
    "\t\t\ttorch.FloatTensor(self.state[ind]).to(self.device),\n",
    "\t\t\ttorch.FloatTensor(self.action[ind]).to(self.device),\n",
    "\t\t\ttorch.FloatTensor(self.next_state[ind]).to(self.device),\n",
    "\t\t\ttorch.FloatTensor(self.reward[ind]).to(self.device),\n",
    "\t\t\ttorch.FloatTensor(self.terminated[ind]).to(self.device)\n",
    "\t\t)"
   ]
  },
  {
   "cell_type": "markdown",
   "id": "c04df5ab",
   "metadata": {},
   "source": [
    "## DQNAgent\n",
    "DQN agent:\n",
    "\n",
    "- act() takes as input one state and outputs an action by following an epsilon-greedy policy.\n",
    "\n",
    "- learn() samples a batch from replay buffer and trains the NetDQN with MSE loss using temporal difference\n",
    "\n",
    "- process() takes one transition (state, action, next state, reward) as input and decides if the agent can learn (after the warmup) and if the target network has to be updated, it also decays the current epsilon.\n"
   ]
  },
  {
   "cell_type": "code",
   "execution_count": 29,
   "id": "5b731ddd",
   "metadata": {},
   "outputs": [],
   "source": [
    "class DQNAgent:\n",
    "    def __init__(\n",
    "        self,\n",
    "        state_dim,\n",
    "        action_dim,\n",
    "        lr=0.0005,\n",
    "        epsilon=1.0,\n",
    "        epsilon_min=0.1,\n",
    "        gamma=0.99,\n",
    "        batch_size=64,\n",
    "        warmup_steps=2500,\n",
    "        buffer_size=int(1e5),\n",
    "        target_update_interval=5000,\n",
    "    ):\n",
    "        self.action_dim = action_dim\n",
    "        self.epsilon = epsilon\n",
    "        self.epsilon_min = epsilon_min\n",
    "        self.gamma = gamma\n",
    "        self.batch_size = batch_size\n",
    "        self.warmup_steps = warmup_steps\n",
    "        self.target_update_interval = target_update_interval   # After how many steps update target net\n",
    "\n",
    "        self.network = NetDQN(state_dim[0], action_dim)\n",
    "        self.target_network = NetDQN(state_dim[0], action_dim)\n",
    "        self.target_network.load_state_dict(self.network.state_dict())\n",
    "        self.optimizer = torch.optim.Adam(self.network.parameters(), lr)\n",
    "\n",
    "        self.buffer = ReplayBuffer(state_dim, (1, ), buffer_size)\n",
    "        self.device = torch.device('cuda' if torch.cuda.is_available else 'cpu')\n",
    "        self.network.to(self.device)\n",
    "        self.target_network.to(self.device)\n",
    "        \n",
    "        self.total_steps = 0\n",
    "        self.epsilon_decay = (epsilon - epsilon_min) / 5e5\n",
    "    \n",
    "    @torch.no_grad()\n",
    "    def act(self, state, training=True):\n",
    "        # Set network to train() mode if training\n",
    "        self.network.train(training)\n",
    "        # Random action if training and if randomly chosen with epsilon or we are in the first warmup steps\n",
    "        if training and ((np.random.rand() < self.epsilon) or (self.total_steps < self.warmup_steps)):\n",
    "            action = np.random.randint(0, self.action_dim)\n",
    "        # Follow the current policy, select best action given the approximated q value\n",
    "        else:\n",
    "            state = torch.from_numpy(state).float().unsqueeze(0).to(self.device)\n",
    "            qvalue = self.network(state)\n",
    "            action = torch.argmax(qvalue).item()\n",
    "        return action\n",
    "    \n",
    "    def learn(self):\n",
    "        # Sample batch size transitions from replay buffer \n",
    "        state, action, next_state, reward, terminated = self.buffer.sample(self.batch_size)\n",
    "        \n",
    "        # Calculated with the target network, detach: do not train the target net\n",
    "        next_qvalue = self.target_network(next_state).detach()\n",
    "        temporal_difference_target = reward + (1. - terminated) * self.gamma * next_qvalue.max(dim=1, keepdim=True).values\n",
    "        # MSE loss between current q value (gather q value that corresponds to action) and temporal difference of the target\n",
    "        loss = F.mse_loss(self.network(state).gather(1, action.long()), temporal_difference_target)\n",
    "        self.optimizer.zero_grad()\n",
    "        loss.backward()\n",
    "        self.optimizer.step()\n",
    "        \n",
    "        result = {\n",
    "            'reward': reward.cpu(),\n",
    "            'training_loss': loss.item()\n",
    "        }\n",
    "        \n",
    "        return result\n",
    "    \n",
    "    def process(self, transition):\n",
    "        result = {}\n",
    "        self.total_steps += 1\n",
    "        self.buffer.add(*transition)\n",
    "        \n",
    "        # Start learning after the warmup\n",
    "        if self.total_steps > self.warmup_steps:\n",
    "            result = self.learn()\n",
    "        \n",
    "        # Update the target network\n",
    "        if self.total_steps % self.target_update_interval == 0:\n",
    "            self.target_network.load_state_dict(self.network.state_dict())\n",
    "        # Epsilon decay\n",
    "        if self.epsilon > self.epsilon_min:\n",
    "            self.epsilon -= self.epsilon_decay\n",
    "        return result"
   ]
  },
  {
   "cell_type": "markdown",
   "id": "1f93672c",
   "metadata": {},
   "source": [
    "## Training the DQN Agent"
   ]
  },
  {
   "cell_type": "code",
   "execution_count": 30,
   "id": "0a567ff3",
   "metadata": {},
   "outputs": [],
   "source": [
    "# Function to evaluate the agent \n",
    "def evaluate(eval_env, agent, n_evals=5):\n",
    "    scores = 0\n",
    "    episode_length = 0\n",
    "    # Play n_evals games until done and store their avg score and avg length\n",
    "    for _ in range(n_evals):\n",
    "        (state, _), done, ret = eval_env.reset(), False, 0\n",
    "        while not done:\n",
    "            action = agent.act(state, training=False)\n",
    "            next_state, reward, terminated, truncated, info = eval_env.step(action)\n",
    "            state = next_state\n",
    "            ret += reward\n",
    "            episode_length += 1\n",
    "            done = terminated or truncated\n",
    "        scores += ret\n",
    "    result = {\n",
    "            'scores': np.round(scores / n_evals, 4),\n",
    "            'average_length': np.round(episode_length / n_evals, 4)\n",
    "        }\n",
    "    return result"
   ]
  },
  {
   "cell_type": "markdown",
   "id": "4b68ddab",
   "metadata": {},
   "source": [
    "Train the DQN Agent for 1 million steps and evaluate it every 5000 steps."
   ]
  },
  {
   "cell_type": "code",
   "execution_count": 12,
   "id": "b5913b10",
   "metadata": {},
   "outputs": [
    {
     "data": {
      "text/html": [
       "Tracking run with wandb version 0.17.3"
      ],
      "text/plain": [
       "<IPython.core.display.HTML object>"
      ]
     },
     "metadata": {},
     "output_type": "display_data"
    },
    {
     "data": {
      "text/html": [
       "Run data is saved locally in <code>/data01/dl24marchi/DLAProjects/wandb/run-20240702_104028-jp70p9ej</code>"
      ],
      "text/plain": [
       "<IPython.core.display.HTML object>"
      ]
     },
     "metadata": {},
     "output_type": "display_data"
    },
    {
     "data": {
      "text/html": [
       "Syncing run <strong><a href='https://wandb.ai/marcouni/Lab3-DRL-DQN_Agent/runs/jp70p9ej' target=\"_blank\">Training DQN</a></strong> to <a href='https://wandb.ai/marcouni/Lab3-DRL-DQN_Agent' target=\"_blank\">Weights & Biases</a> (<a href='https://wandb.me/run' target=\"_blank\">docs</a>)<br/>"
      ],
      "text/plain": [
       "<IPython.core.display.HTML object>"
      ]
     },
     "metadata": {},
     "output_type": "display_data"
    },
    {
     "data": {
      "text/html": [
       " View project at <a href='https://wandb.ai/marcouni/Lab3-DRL-DQN_Agent' target=\"_blank\">https://wandb.ai/marcouni/Lab3-DRL-DQN_Agent</a>"
      ],
      "text/plain": [
       "<IPython.core.display.HTML object>"
      ]
     },
     "metadata": {},
     "output_type": "display_data"
    },
    {
     "data": {
      "text/html": [
       " View run at <a href='https://wandb.ai/marcouni/Lab3-DRL-DQN_Agent/runs/jp70p9ej' target=\"_blank\">https://wandb.ai/marcouni/Lab3-DRL-DQN_Agent/runs/jp70p9ej</a>"
      ],
      "text/plain": [
       "<IPython.core.display.HTML object>"
      ]
     },
     "metadata": {},
     "output_type": "display_data"
    }
   ],
   "source": [
    "run=wandb.init(\n",
    "          project=\"Lab3-DRL-DQN_Agent\",\n",
    "          name = \"Training DQN\",\n",
    "          config={\n",
    "            \"lr\" : 0.0005,\n",
    "            \"epsilon\" : 1.0,\n",
    "            \"epsilon_min\" : 0.1,\n",
    "            \"gamma\" : 0.99,\n",
    "            \"batch_size\" : 64,\n",
    "            \"warmup_steps\" : 2500,\n",
    "            \"buffer_size\" :int(1e5),\n",
    "            \"target_update_interval\" : 5000,\n",
    "            \"max_steps\": int(1e6),\n",
    "            \"eval_interval\" : 5000,\n",
    "              })\n",
    "    \n",
    "# Copy the configuration\n",
    "config = wandb.config\n",
    "\n",
    "# Create environments to train and evaluate\n",
    "env = gymnasium.make('CarRacing-v2', continuous=False)\n",
    "env = ImageEnv(env)\n",
    "\n",
    "eval_env = gymnasium.make('CarRacing-v2', continuous=False)\n",
    "eval_env = ImageEnv(eval_env)\n",
    "\n",
    "# General definitions\n",
    "state_dim = (4, 84, 84)\n",
    "action_dim = env.action_space.n\n",
    "\n",
    "agent = DQNAgent(state_dim, action_dim, config.lr, config.epsilon, config.epsilon_min, config.gamma, config.batch_size,\n",
    "                 config.warmup_steps, config.buffer_size, config.target_update_interval)"
   ]
  },
  {
   "cell_type": "code",
   "execution_count": null,
   "id": "c2fde452",
   "metadata": {},
   "outputs": [],
   "source": [
    "state, _ = env.reset()\n",
    "# To save the best agent, the one with the best eval avg score\n",
    "best_avg_score = -100\n",
    "losses = []\n",
    "rewards = []\n",
    "\n",
    "negative_reward_counter = 0\n",
    "time_frame_counter = 1\n",
    "while True:\n",
    "    action = agent.act(state)\n",
    "    next_state, reward, terminated, truncated, info = env.step(action)\n",
    "    result = agent.process((state, action, next_state, reward, terminated))  \n",
    "\n",
    "    state = next_state\n",
    "\n",
    "    # If continually getting negative reward 25 times after the tolerance steps, terminate this episode\n",
    "    negative_reward_counter = negative_reward_counter + 1 if time_frame_counter > 100 and reward < 0 else 0\n",
    "    time_frame_counter += 1\n",
    "\n",
    "    if terminated or truncated or negative_reward_counter >= 25:\n",
    "        state, _ = env.reset()\n",
    "        negative_reward_counter = 0\n",
    "        time_frame_counter = 1\n",
    "        \n",
    "    if agent.total_steps % config.eval_interval == 0:\n",
    "        ret = evaluate(eval_env, agent)\n",
    "\n",
    "        scores_metric = {\"Average Eval Scores\": ret['scores']}\n",
    "        episode_length_metric = {\"Average Episode Length\": ret['average_length']}\n",
    "        wandb.log({**scores_metric, **episode_length_metric}, commit = False)\n",
    "        \n",
    "        # Save the best agent\n",
    "        if best_avg_score < ret['scores']:\n",
    "            best_avg_score = ret['scores']\n",
    "            # Save all the parameters of the model\n",
    "            best_model_state_dict = agent.network.state_dict()\n",
    "\n",
    "    # Wait the warmup_steps\n",
    "    if agent.total_steps > agent.warmup_steps:        \n",
    "      # Accumulate losses and reward\n",
    "      losses.append(result[\"training_loss\"])\n",
    "      rewards.append(result[\"reward\"])\n",
    "      # Only save avg losses and rewards for more readable graphs\n",
    "      if agent.total_steps % 100 == 0:\n",
    "          loss_metric = {\"Trainin Loss\": np.mean(losses[-100:])}\n",
    "          training_reward_metric = {\"Training Reward\": np.mean(rewards[-100:])}\n",
    "          wandb.log({**loss_metric, **training_reward_metric})\n",
    "          print(f'Avg loss at episode {agent.total_steps}/{config.max_steps}: {np.mean(losses[-100:])}')\n",
    "          print(f'Avg reward at episode {agent.total_steps}/{config.max_steps}: {np.mean(rewards[-100:])}')\n",
    "\n",
    "    # Save the best model weights and biases as an artifact every 100000 steps\n",
    "    if agent.total_steps % 100000 == 0:\n",
    "        # Save the best model on weights and biases as an artifact\n",
    "        model_artifact = wandb.Artifact(\n",
    "                    \"DQN_Agent\"+ str(agent.total_steps) , type=\"model\",\n",
    "                    description=\"best model for Lab3-DRL\" + str(agent.total_steps) ,\n",
    "                    metadata=dict(config))\n",
    "\n",
    "        torch.save(best_model_state_dict, \"best_model.pth\")\n",
    "        model_artifact.add_file(\"best_model.pth\")\n",
    "        wandb.save(\"best_model.pth\")\n",
    "        run.log_artifact(model_artifact)\n",
    "\n",
    "    # After all the steps save the best model and break\n",
    "    if agent.total_steps > config.max_steps:\n",
    "        # Load saved weights of the best model\n",
    "        agent.network.load_state_dict(best_model_state_dict)\n",
    "\n",
    "        # Save the best model on weights and biases as an artifact\n",
    "        model_artifact = wandb.Artifact(\n",
    "                    \"DQN_Agent_final\" , type=\"model\",\n",
    "                    description=\"best model for Lab3-DRL\",\n",
    "                    metadata=dict(config))\n",
    "\n",
    "        torch.save(agent.network.state_dict(), \"best_model.pth\")\n",
    "        model_artifact.add_file(\"best_model.pth\")\n",
    "        wandb.save(\"best_model.pth\")\n",
    "        run.log_artifact(model_artifact)\n",
    "         # Close wandb run\n",
    "        wandb.finish()\n",
    "        env.close()\n",
    "        eval_env.close()\n",
    "        break"
   ]
  },
  {
   "cell_type": "markdown",
   "id": "fbb95146",
   "metadata": {},
   "source": [
    "## Final evaluation"
   ]
  },
  {
   "cell_type": "code",
   "execution_count": 38,
   "id": "769b2ffe",
   "metadata": {},
   "outputs": [
    {
     "data": {
      "text/html": [
       "Tracking run with wandb version 0.17.3"
      ],
      "text/plain": [
       "<IPython.core.display.HTML object>"
      ]
     },
     "metadata": {},
     "output_type": "display_data"
    },
    {
     "data": {
      "text/html": [
       "Run data is saved locally in <code>/data01/dl24marchi/DLAProjects/wandb/run-20240702_181057-peiujzlf</code>"
      ],
      "text/plain": [
       "<IPython.core.display.HTML object>"
      ]
     },
     "metadata": {},
     "output_type": "display_data"
    },
    {
     "data": {
      "text/html": [
       "Syncing run <strong><a href='https://wandb.ai/marcouni/DLAProjects/runs/peiujzlf' target=\"_blank\">happy-paper-18</a></strong> to <a href='https://wandb.ai/marcouni/DLAProjects' target=\"_blank\">Weights & Biases</a> (<a href='https://wandb.me/run' target=\"_blank\">docs</a>)<br/>"
      ],
      "text/plain": [
       "<IPython.core.display.HTML object>"
      ]
     },
     "metadata": {},
     "output_type": "display_data"
    },
    {
     "data": {
      "text/html": [
       " View project at <a href='https://wandb.ai/marcouni/DLAProjects' target=\"_blank\">https://wandb.ai/marcouni/DLAProjects</a>"
      ],
      "text/plain": [
       "<IPython.core.display.HTML object>"
      ]
     },
     "metadata": {},
     "output_type": "display_data"
    },
    {
     "data": {
      "text/html": [
       " View run at <a href='https://wandb.ai/marcouni/DLAProjects/runs/peiujzlf' target=\"_blank\">https://wandb.ai/marcouni/DLAProjects/runs/peiujzlf</a>"
      ],
      "text/plain": [
       "<IPython.core.display.HTML object>"
      ]
     },
     "metadata": {},
     "output_type": "display_data"
    },
    {
     "name": "stderr",
     "output_type": "stream",
     "text": [
      "\u001b[34m\u001b[1mwandb\u001b[0m:   1 of 1 files downloaded.  \n"
     ]
    },
    {
     "data": {
      "text/html": [
       " View run <strong style=\"color:#cdcd00\">happy-paper-18</strong> at: <a href='https://wandb.ai/marcouni/DLAProjects/runs/peiujzlf' target=\"_blank\">https://wandb.ai/marcouni/DLAProjects/runs/peiujzlf</a><br/> View project at: <a href='https://wandb.ai/marcouni/DLAProjects' target=\"_blank\">https://wandb.ai/marcouni/DLAProjects</a><br/>Synced 5 W&B file(s), 0 media file(s), 0 artifact file(s) and 0 other file(s)"
      ],
      "text/plain": [
       "<IPython.core.display.HTML object>"
      ]
     },
     "metadata": {},
     "output_type": "display_data"
    },
    {
     "data": {
      "text/html": [
       "Find logs at: <code>./wandb/run-20240702_181057-peiujzlf/logs</code>"
      ],
      "text/plain": [
       "<IPython.core.display.HTML object>"
      ]
     },
     "metadata": {},
     "output_type": "display_data"
    },
    {
     "data": {
      "text/html": [
       "The new W&B backend becomes opt-out in version 0.18.0; try it out with `wandb.require(\"core\")`! See https://wandb.me/wandb-core for more information."
      ],
      "text/plain": [
       "<IPython.core.display.HTML object>"
      ]
     },
     "metadata": {},
     "output_type": "display_data"
    },
    {
     "name": "stderr",
     "output_type": "stream",
     "text": [
      "/data01/dl24marchi/DLAProjects/.venv/lib/python3.10/site-packages/gymnasium/wrappers/record_video.py:94: UserWarning: \u001b[33mWARN: Overwriting existing videos at /data01/dl24marchi/DLAProjects/videos folder (try specifying a different `video_folder` for the `RecordVideo` wrapper if this is not desired)\u001b[0m\n",
      "  logger.warn(\n"
     ]
    },
    {
     "name": "stdout",
     "output_type": "stream",
     "text": [
      "Moviepy - Building video /data01/dl24marchi/DLAProjects/videos/Test 2 DRL-episode-0.mp4.\n",
      "Moviepy - Writing video /data01/dl24marchi/DLAProjects/videos/Test 2 DRL-episode-0.mp4\n",
      "\n"
     ]
    },
    {
     "name": "stderr",
     "output_type": "stream",
     "text": [
      "                                                               \r"
     ]
    },
    {
     "name": "stdout",
     "output_type": "stream",
     "text": [
      "Moviepy - Done !\n",
      "Moviepy - video ready /data01/dl24marchi/DLAProjects/videos/Test 2 DRL-episode-0.mp4\n",
      "Test score 870.7320872273949\n"
     ]
    }
   ],
   "source": [
    "from gymnasium.wrappers import RecordVideo\n",
    "\n",
    "# Get the best agent to test\n",
    "run = wandb.init()\n",
    "\n",
    "artifact = run.use_artifact('Lab3-DRL-DQN_Agent/DQN_Agent600000:v0', type='model')\n",
    "artifact_dir = artifact.download()\n",
    "\n",
    "run.finish()\n",
    "\n",
    "state_dim = (4, 84, 84)\n",
    "action_dim = 5\n",
    "\n",
    "agent = DQNAgent(state_dim, action_dim, 0.0005, 1, 0.1, 0.99, 34, 2500, int(1e5), 5000)\n",
    "agent.network.load_state_dict(torch.load(artifact_dir+'/best_model.pth'))\n",
    "\n",
    "# Test environment\n",
    "test_env = gymnasium.make('CarRacing-v2', continuous=False, render_mode='rgb_array')\n",
    "test_env = ImageEnv(test_env)\n",
    "\n",
    "# Wrap the env in the record video \n",
    "recorder = gymnasium.wrappers.RecordVideo(env=test_env, video_folder=\"/data01/dl24marchi/DLAProjects/Videos\", name_prefix=\"Test 2 DRL\", episode_trigger=lambda x: x)\n",
    "test_env.metadata['render_fps'] = 10\n",
    "\n",
    "frames = []\n",
    "scores = 0\n",
    "(state, _), done, ret = recorder.reset(), False, 0\n",
    "recorder.start_video_recorder()\n",
    "while not done:\n",
    "    # saves the renders of the environment, what the agent sees\n",
    "    frames.append(recorder.render())\n",
    "    action = agent.act(state, training=False)\n",
    "    next_state, reward, terminated, truncated, info = recorder.step(action)\n",
    "    state = next_state\n",
    "    ret += reward\n",
    "    done = terminated or truncated\n",
    "scores += ret\n",
    "print(f'Test score {scores}')\n",
    "\n",
    "recorder.close_video_recorder()\n",
    "\n",
    "test_env.close()"
   ]
  },
  {
   "cell_type": "code",
   "execution_count": null,
   "id": "5e029510",
   "metadata": {},
   "outputs": [],
   "source": []
  }
 ],
 "metadata": {
  "colab": {
   "provenance": []
  },
  "kernelspec": {
   "display_name": "Python 3 (ipykernel)",
   "language": "python",
   "name": "python3"
  },
  "language_info": {
   "codemirror_mode": {
    "name": "ipython",
    "version": 3
   },
   "file_extension": ".py",
   "mimetype": "text/x-python",
   "name": "python",
   "nbconvert_exporter": "python",
   "pygments_lexer": "ipython3",
   "version": "3.10.12"
  }
 },
 "nbformat": 4,
 "nbformat_minor": 5
}
